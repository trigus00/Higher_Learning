{
 "cells": [
  {
   "cell_type": "code",
   "execution_count": 2,
   "metadata": {},
   "outputs": [],
   "source": [
    "import pandas as pd \n",
    "import json "
   ]
  },
  {
   "cell_type": "code",
   "execution_count": 3,
   "metadata": {},
   "outputs": [],
   "source": [
    "json = \"state_border.json\""
   ]
  },
  {
   "cell_type": "code",
   "execution_count": 4,
   "metadata": {},
   "outputs": [],
   "source": [
    "state_border = pd.read_json(json)"
   ]
  },
  {
   "cell_type": "code",
   "execution_count": 9,
   "metadata": {},
   "outputs": [
    {
     "data": {
      "text/plain": [
       "0     {'type': 'Feature', 'id': '01', 'properties': ...\n",
       "1     {'type': 'Feature', 'id': '02', 'properties': ...\n",
       "2     {'type': 'Feature', 'id': '04', 'properties': ...\n",
       "3     {'type': 'Feature', 'id': '05', 'properties': ...\n",
       "4     {'type': 'Feature', 'id': '06', 'properties': ...\n",
       "5     {'type': 'Feature', 'id': '08', 'properties': ...\n",
       "6     {'type': 'Feature', 'id': '09', 'properties': ...\n",
       "7     {'type': 'Feature', 'id': '10', 'properties': ...\n",
       "8     {'type': 'Feature', 'id': '11', 'properties': ...\n",
       "9     {'type': 'Feature', 'id': '12', 'properties': ...\n",
       "10    {'type': 'Feature', 'id': '13', 'properties': ...\n",
       "11    {'type': 'Feature', 'id': '15', 'properties': ...\n",
       "12    {'type': 'Feature', 'id': '16', 'properties': ...\n",
       "13    {'type': 'Feature', 'id': '17', 'properties': ...\n",
       "14    {'type': 'Feature', 'id': '18', 'properties': ...\n",
       "15    {'type': 'Feature', 'id': '19', 'properties': ...\n",
       "16    {'type': 'Feature', 'id': '20', 'properties': ...\n",
       "17    {'type': 'Feature', 'id': '21', 'properties': ...\n",
       "18    {'type': 'Feature', 'id': '22', 'properties': ...\n",
       "19    {'type': 'Feature', 'id': '23', 'properties': ...\n",
       "20    {'type': 'Feature', 'id': '24', 'properties': ...\n",
       "21    {'type': 'Feature', 'id': '25', 'properties': ...\n",
       "22    {'type': 'Feature', 'id': '26', 'properties': ...\n",
       "23    {'type': 'Feature', 'id': '27', 'properties': ...\n",
       "24    {'type': 'Feature', 'id': '28', 'properties': ...\n",
       "25    {'type': 'Feature', 'id': '29', 'properties': ...\n",
       "26    {'type': 'Feature', 'id': '30', 'properties': ...\n",
       "27    {'type': 'Feature', 'id': '31', 'properties': ...\n",
       "28    {'type': 'Feature', 'id': '32', 'properties': ...\n",
       "29    {'type': 'Feature', 'id': '33', 'properties': ...\n",
       "30    {'type': 'Feature', 'id': '34', 'properties': ...\n",
       "31    {'type': 'Feature', 'id': '35', 'properties': ...\n",
       "32    {'type': 'Feature', 'id': '36', 'properties': ...\n",
       "33    {'type': 'Feature', 'id': '37', 'properties': ...\n",
       "34    {'type': 'Feature', 'id': '38', 'properties': ...\n",
       "35    {'type': 'Feature', 'id': '39', 'properties': ...\n",
       "36    {'type': 'Feature', 'id': '40', 'properties': ...\n",
       "37    {'type': 'Feature', 'id': '41', 'properties': ...\n",
       "38    {'type': 'Feature', 'id': '42', 'properties': ...\n",
       "39    {'type': 'Feature', 'id': '44', 'properties': ...\n",
       "40    {'type': 'Feature', 'id': '45', 'properties': ...\n",
       "41    {'type': 'Feature', 'id': '46', 'properties': ...\n",
       "42    {'type': 'Feature', 'id': '47', 'properties': ...\n",
       "43    {'type': 'Feature', 'id': '48', 'properties': ...\n",
       "44    {'type': 'Feature', 'id': '49', 'properties': ...\n",
       "45    {'type': 'Feature', 'id': '50', 'properties': ...\n",
       "46    {'type': 'Feature', 'id': '51', 'properties': ...\n",
       "47    {'type': 'Feature', 'id': '53', 'properties': ...\n",
       "48    {'type': 'Feature', 'id': '54', 'properties': ...\n",
       "49    {'type': 'Feature', 'id': '55', 'properties': ...\n",
       "50    {'type': 'Feature', 'id': '56', 'properties': ...\n",
       "Name: features, dtype: object"
      ]
     },
     "execution_count": 9,
     "metadata": {},
     "output_type": "execute_result"
    }
   ],
   "source": [
    "state_border.features"
   ]
  },
  {
   "cell_type": "code",
   "execution_count": 7,
   "metadata": {},
   "outputs": [],
   "source": [
    "state_border.to_csv('state-borders.csv') "
   ]
  },
  {
   "cell_type": "code",
   "execution_count": 23,
   "metadata": {},
   "outputs": [
    {
     "ename": "TypeError",
     "evalue": "parser_f() got an unexpected keyword argument 'index_label'",
     "output_type": "error",
     "traceback": [
      "\u001b[0;31m---------------------------------------------------------------------------\u001b[0m",
      "\u001b[0;31mTypeError\u001b[0m                                 Traceback (most recent call last)",
      "\u001b[0;32m<ipython-input-23-3c901eae6d1d>\u001b[0m in \u001b[0;36m<module>\u001b[0;34m\u001b[0m\n\u001b[0;32m----> 1\u001b[0;31m \u001b[0mstate_borders\u001b[0m\u001b[0;34m=\u001b[0m \u001b[0mpd\u001b[0m\u001b[0;34m.\u001b[0m\u001b[0mread_csv\u001b[0m\u001b[0;34m(\u001b[0m\u001b[0;34m\"state_borders.csv\"\u001b[0m\u001b[0;34m,\u001b[0m \u001b[0mindex_label\u001b[0m \u001b[0;34m=\u001b[0m \u001b[0;32mTrue\u001b[0m \u001b[0;34m)\u001b[0m\u001b[0;34m\u001b[0m\u001b[0;34m\u001b[0m\u001b[0m\n\u001b[0m",
      "\u001b[0;31mTypeError\u001b[0m: parser_f() got an unexpected keyword argument 'index_label'"
     ]
    }
   ],
   "source": [
    "state_borders= pd.read_csv(\"state_borders.csv\", mode = 'w' )"
   ]
  },
  {
   "cell_type": "code",
   "execution_count": null,
   "metadata": {},
   "outputs": [],
   "source": []
  },
  {
   "cell_type": "code",
   "execution_count": null,
   "metadata": {},
   "outputs": [],
   "source": []
  },
  {
   "cell_type": "code",
   "execution_count": null,
   "metadata": {},
   "outputs": [],
   "source": []
  },
  {
   "cell_type": "code",
   "execution_count": null,
   "metadata": {},
   "outputs": [],
   "source": []
  }
 ],
 "metadata": {
  "kernelspec": {
   "display_name": "Python 3",
   "language": "python",
   "name": "python3"
  },
  "language_info": {
   "codemirror_mode": {
    "name": "ipython",
    "version": 3
   },
   "file_extension": ".py",
   "mimetype": "text/x-python",
   "name": "python",
   "nbconvert_exporter": "python",
   "pygments_lexer": "ipython3",
   "version": "3.7.3"
  }
 },
 "nbformat": 4,
 "nbformat_minor": 2
}
